{
 "cells": [
  {
   "cell_type": "markdown",
   "metadata": {},
   "source": [
    "- migrations는 건들지 않는다\n",
    "\n",
    "- pytohn - makemigrations >> 이렇게 만들 거야~  \n",
    "- python - migrate >> 좋다 이렇게 하자~  \n",
    "  \\~> 여러 기능 한 번에 적용(나머지도 같이 적용되긴 함)  \n",
    "  \\~> 기본적으로 모든 필드는 비어있으면 안됨"
   ]
  },
  {
   "cell_type": "markdown",
   "metadata": {},
   "source": [
    "- python manage.py shell로 파이썬 실행하여 장고연동하여 사용\n",
    "- from articles.models import Article로 import 해오기\n",
    "- Article.objects.all()을보면 Queryset이 잡힘   \n",
    "  \\~> objects가 바로 db에 접근할 수 있게 명령을 내리게 하는 객체"
   ]
  },
  {
   "cell_type": "markdown",
   "metadata": {},
   "source": [
    "## 데이터 '저장' 3가지 방법\n",
    "\n",
    "### 객체생성\n",
    "\n",
    "- ORM을 사용하는 이유는 DB를 조작하는 것을 객체지향 프로그래밍(객체)처럼 하기 위해서!  \n",
    "  \\~>객체를 생성하여 사용!\n",
    "  \n",
    "  \\~> article을 만들어서 지정했던 필드를 article.--로 지정해줌  \n",
    "      ~> article.save()로 저장  >> ID자동 저장 확인가능  \n",
    "      ~> Article.objects.all()에서도 하나 채워진 것 확인 가능\n",
    "      \n",
    "### 생성과 동시에 필드 저장\n",
    "- 위와 거의 동일\n",
    "  \\~> article = Article(title='--', content='--')\n",
    "  \\~> article.save()\n",
    "\n",
    "### create를 사용하면 쿼리셋 객체 생성과 저장이 한번에\n",
    "\n",
    "- art.objects.create(title='Third', content='django!')로 한번에\n",
    "\n",
    "** 오래된 데이터 부터 쌓임!! >> 보여줄때는 처리할 필요가 있음 **\n",
    "\n",
    "\n",
    "### 저장할 수 있는지 확인\n",
    "- article.full_clean() (article = Article())\n",
    "  - 만족안하는 경우 에러 생성\n",
    "\n",
    "### 객체표현 변경\n",
    "- models.py에서 class아래에 __str__(self) 작성\n",
    "  \\~> 호출 할 때 표현 방법 재정의"
   ]
  },
  {
   "cell_type": "markdown",
   "metadata": {},
   "source": [
    "## 데이터 로드\n",
    "\n",
    "### 특정 조건의 자료만 로드\n",
    "- Article.objects.filter('condition')  \n",
    "  \\~> queryset으로 로드해줌\n",
    "  \n",
    "### 특정 조건의 조건 걸기\n",
    "- qs = art.objects.filter(title='SecondArticle')  \n",
    "  \\~> qs.'cond'  --  .first, .last,...\n",
    "  \n",
    "### 해당 PK만 가져오기\n",
    "- art.objects.get(pk=1)  \n",
    "  ** get은 유일한 값에만 접근가능!! **\n",
    "\n",
    "### 오름차순/내림차순\n",
    "- 오름차순\n",
    "  - arts = Article.objects.order_by('pk')\n",
    "    \\~> arts 해보면 순서대로\n",
    "  \n",
    "- 내림차순\n",
    "  - arts = Article.objects.order_by(**'-pk'**)\n",
    "    \\~> arts 해보면 순서대로\n",
    "    \n",
    "### 쿼리셋은 리스트처럼 인덱스접근 가능\n",
    "- Article.objects.all()[0:2]식으로 로드 가능\n",
    "\n",
    "### 비슷한 문자열/포함 문자열을 로드\n",
    "- art.objects.filter(title__contains='Sec')  \n",
    "  \\~> 이름과 필터를 __로 구분  \n",
    "  \n",
    "- art.objects.filter(title__startswith='c')\n",
    "  \\~> 시작하는 문자\n",
    "  \\~> 끝나는 문자는 endswith로 가능"
   ]
  },
  {
   "cell_type": "markdown",
   "metadata": {},
   "source": [
    "## 삭제\n",
    "\n",
    "### Delete\n",
    "- article object 호출 후 .delete\n",
    "  \\~> article = Article.objects.get(pk=1).delete()"
   ]
  },
  {
   "cell_type": "markdown",
   "metadata": {},
   "source": [
    "## 업데이트\n",
    "\n",
    "### update\n",
    "\n",
    "- article objects 호출 후 .--으로 바로 추가 가능  \n",
    "  \\~> ex) article.content = 'hello'\n"
   ]
  },
  {
   "cell_type": "markdown",
   "metadata": {},
   "source": [
    "## 관리페이지에서 관리\n",
    "\n",
    "### admin계정 설정\n",
    "\n",
    "- python manage.py createsuperuser  \n",
    "  \\~> register\n",
    "  \n",
    "  \\~> DB에 저장됨!!(migrations해야 등록가능)\n",
    "\n",
    "### DB에서 볼 수 있도록 설정\n",
    "- from .models import Article\n",
    "- admin.site.register(Article)  \n",
    "-- 그런데 몇몇 정보가 안보임!!\n",
    "\n",
    "- @admin.register(Article)  \n",
    "class ArticleAdmin(admin.ModelAdmin):  \n",
    "    list_display = ('id', 'title', 'content', 'created_at', 'updated_at')  \n",
    "    이렇게 볼 정보를 지정해주면 가능!!\n",
    "\n",
    "\\~> # admin.site.register(Article)설정 유의!!"
   ]
  },
  {
   "cell_type": "code",
   "execution_count": null,
   "metadata": {},
   "outputs": [],
   "source": [
    "()"
   ]
  }
 ],
 "metadata": {
  "kernelspec": {
   "display_name": "Python 3",
   "language": "python",
   "name": "python3"
  },
  "language_info": {
   "codemirror_mode": {
    "name": "ipython",
    "version": 3
   },
   "file_extension": ".py",
   "mimetype": "text/x-python",
   "name": "python",
   "nbconvert_exporter": "python",
   "pygments_lexer": "ipython3",
   "version": "3.7.3"
  },
  "toc": {
   "base_numbering": 1,
   "nav_menu": {},
   "number_sections": true,
   "sideBar": true,
   "skip_h1_title": false,
   "title_cell": "Table of Contents",
   "title_sidebar": "Contents",
   "toc_cell": false,
   "toc_position": {},
   "toc_section_display": true,
   "toc_window_display": false
  }
 },
 "nbformat": 4,
 "nbformat_minor": 2
}
