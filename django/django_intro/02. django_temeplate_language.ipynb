{
 "cells": [
  {
   "cell_type": "markdown",
   "metadata": {},
   "source": [
    "# for 제어"
   ]
  },
  {
   "cell_type": "markdown",
   "metadata": {},
   "source": [
    "{% for i in idxs%}  \n",
    "{{ i }}  \n",
    "{% endfor %}  \n",
    "\n",
    "\n",
    "{% %}로 형식 제시  \n",
    "{% %}로 끝난 것을 명시적으로 표현해주어야 함"
   ]
  },
  {
   "cell_type": "markdown",
   "metadata": {},
   "source": [
    "{{ forloop.counter }}:  \n",
    " - for가 지나면서 숫자를 찍어줌   \n",
    " \\~> .counter0, .first, .last등의 옵션활용가능  "
   ]
  },
  {
   "cell_type": "markdown",
   "metadata": {},
   "source": [
    "{% for i in idx %}  \n",
    "code  \n",
    "{% empty %} \\~> for문에 해당되는 값이 비어있으면  \n",
    "\n",
    "code  \n",
    "{% endfor %}"
   ]
  },
  {
   "cell_type": "markdown",
   "metadata": {},
   "source": [
    "# if 제어"
   ]
  },
  {
   "cell_type": "markdown",
   "metadata": {},
   "source": [
    "조건문도 마찬가지로 작성가능  \n",
    "{% if \\~ %}  \n",
    "{% endif %}"
   ]
  },
  {
   "cell_type": "markdown",
   "metadata": {},
   "source": [
    "# length filter"
   ]
  },
  {
   "cell_type": "markdown",
   "metadata": {},
   "source": [
    "{% if \\~|length %}  \n",
    "\\~> 하면 길이를 반환하여 조건 주기 가능"
   ]
  },
  {
   "cell_type": "markdown",
   "metadata": {},
   "source": [
    "# lorem ipsum"
   ]
  },
  {
   "cell_type": "markdown",
   "metadata": {},
   "source": [
    "{% lorem %}형식으로 간단하게 불러올 수 있음  \n",
    "\n",
    "{% lorem 4 w random %}  \n",
    "\\~> 4단어 가져오기  \n",
    "\n",
    "{% lorem 1 p random %}  \n",
    "\\~> 1문단 가져오기"
   ]
  },
  {
   "cell_type": "markdown",
   "metadata": {},
   "source": [
    "# 글자수 제한"
   ]
  },
  {
   "cell_type": "markdown",
   "metadata": {},
   "source": [
    "{{ sentence|truncatewords:3 }}  \n",
    "\\~> 단어수를 3으로 제한 >> (...)으로 변환하여 받음  \n",
    "\n",
    "{{ sentence|truncatechars:3 }}  \n",
    "\\~> 글자단위로 제한(3번째는 포함 x)  \n",
    "\n"
   ]
  },
  {
   "cell_type": "markdown",
   "metadata": {},
   "source": [
    "# 글자관련 필터"
   ]
  },
  {
   "cell_type": "markdown",
   "metadata": {},
   "source": [
    "{{ 'abc'|length }}  \n",
    "\\~> 글자수  \n",
    "\n",
    "{{ 'ABC'|lower }}  \n",
    "\\~> 소문자로  \n",
    "\n",
    "{{ my_sentence|title }}  \n",
    "\\~> 시작글자 대문자로  \n",
    "\n",
    "{{ 'abcdef'|capfirst }}  \n",
    "\\~> 첫 글자만 소문자로  \n",
    "\n",
    "{{ menus|random }}  \n",
    "\\~> 랜덤하게 하나씩 뽑기  \n"
   ]
  },
  {
   "cell_type": "markdown",
   "metadata": {},
   "source": [
    "# 날짜표현"
   ]
  },
  {
   "cell_type": "markdown",
   "metadata": {},
   "source": [
    "{{ now }}  \n",
    "\\~> 애초에 시간을 만들어서 출력 \n",
    "\n",
    "{% now \"DATE_TIMEM_FORMAT\" %}  \n",
    "\\~> 장고의 내장 시간표현 법 : \"--\"에 옵션으로 출력형식 지정  \n",
    "\n",
    "{% now 'Y년 m월 d일 (D) h:i'  %}  \n",
    "\\~> cunstom format  \n",
    "\n",
    "{% now \"Y\" as current_year %}  \n",
    "\\~> 변수로 저장하여 사용가능  \n",
    "\n",
    "{{ now |date:\"DATE_FORMAT\" }}  \n",
    "\\~> 받은 시간을 특별히 포맷팅하여 활용도 가능  \n"
   ]
  },
  {
   "cell_type": "markdown",
   "metadata": {},
   "source": [
    "# 기타"
   ]
  },
  {
   "cell_type": "markdown",
   "metadata": {},
   "source": [
    "\" {{ text }}\"|urlize  \n",
    "\\~> 바로 a태그로 가능  "
   ]
  },
  {
   "cell_type": "code",
   "execution_count": null,
   "metadata": {},
   "outputs": [],
   "source": []
  }
 ],
 "metadata": {
  "kernelspec": {
   "display_name": "Python 3",
   "language": "python",
   "name": "python3"
  },
  "language_info": {
   "codemirror_mode": {
    "name": "ipython",
    "version": 3
   },
   "file_extension": ".py",
   "mimetype": "text/x-python",
   "name": "python",
   "nbconvert_exporter": "python",
   "pygments_lexer": "ipython3",
   "version": "3.7.3"
  },
  "toc": {
   "base_numbering": 1,
   "nav_menu": {},
   "number_sections": true,
   "sideBar": true,
   "skip_h1_title": false,
   "title_cell": "Table of Contents",
   "title_sidebar": "Contents",
   "toc_cell": false,
   "toc_position": {},
   "toc_section_display": true,
   "toc_window_display": false
  }
 },
 "nbformat": 4,
 "nbformat_minor": 2
}
