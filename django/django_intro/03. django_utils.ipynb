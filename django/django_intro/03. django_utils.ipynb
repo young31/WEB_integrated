{
 "cells": [
  {
   "cell_type": "markdown",
   "metadata": {},
   "source": [
    "- application 에서 templates면 모아서 읽음  \n",
    "    \\~> INSTALLED_APPS에서 저장한 순서대로 우선순위로 중복데이터 html 처리  \n",
    "    \\~> 개별적으로 templates 안에 app폴더를 따로 두고 경로설정으로 해결  \n",
    "    \\~> static도 마찬가지로 적용\n",
    "    "
   ]
  },
  {
   "cell_type": "markdown",
   "metadata": {},
   "source": [
    "# template 상속\n",
    "\n",
    "- project에서 html템플릿 생성\n",
    "- bootstrap도 이렇게 설정가능  \n",
    "  \\~> settings에가서 TEMPLATES에서 DIRS 적용해줌   \n",
    "  \n",
    "  \\~> 작업하려는 html에서 extends 'base.html'로 상속  \n",
    "  \\~> block으로 주고 싶은 부분 적용할것 작성  \n",
    "  "
   ]
  },
  {
   "cell_type": "markdown",
   "metadata": {},
   "source": [
    "저장할 때는 특정 파일에 쓴 패키지 저장해놓을 필요가 있음\n",
    "\n",
    "pip freeze > requirements.txt  \n",
    "이후 \n",
    "pip install -r requirements.txt로 모두 설치 가능  \n",
    "\n",
    "\n",
    "파이썬 버전은 README.md에 명시  \n"
   ]
  }
 ],
 "metadata": {
  "kernelspec": {
   "display_name": "Python 3",
   "language": "python",
   "name": "python3"
  },
  "language_info": {
   "codemirror_mode": {
    "name": "ipython",
    "version": 3
   },
   "file_extension": ".py",
   "mimetype": "text/x-python",
   "name": "python",
   "nbconvert_exporter": "python",
   "pygments_lexer": "ipython3",
   "version": "3.7.3"
  },
  "toc": {
   "base_numbering": 1,
   "nav_menu": {},
   "number_sections": true,
   "sideBar": true,
   "skip_h1_title": false,
   "title_cell": "Table of Contents",
   "title_sidebar": "Contents",
   "toc_cell": false,
   "toc_position": {},
   "toc_section_display": true,
   "toc_window_display": false
  }
 },
 "nbformat": 4,
 "nbformat_minor": 2
}
