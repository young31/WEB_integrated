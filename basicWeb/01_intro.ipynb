{
 "cells": [
  {
   "cell_type": "markdown",
   "metadata": {},
   "source": [
    "## serivce는 client와 server로 구성\n",
    "- client > browser(**chrome을 쓰자!**)  \n",
    "    - 웹표준과 성능의 문제  \n",
    "    \n",
    "## client의 요청 종류\n",
    "- get: 어떤것을 주세요.  >>  client에게 요청받은것 전달\n",
    "- post: 무엇을 해주세요 >> 했음이라고 전달  \n",
    "** 우리는 이 요청을 처리할 프로그램을 개발한다. **  \n",
    "\n",
    "## Static Web: 정말 단순한 웹서비스\n",
    "- request <~> response: ip_address대신 이름을 지어준 도메인을 이용함  \n",
    "    - ip = 8비트 숫자로된 집합\n",
    "    - domain = 컴퓨터를 식별하는 호스트명\n",
    "    - url = 도메임+경로 > 실제 서버에 저장된 자료의 위치 \\<**고유규약**\\>  \n",
    "    \\~> 이런것을 그냥 하나씩 가지고 오는 것 (항상 같은 정보를 내어줌)  \n",
    "    ex) https://hphk/lectures/1 > hphk에 lectures에 접근하는 식으로\n",
    "    - uri = 인터넷 자원을 나태내는 유일한 주소  \n",
    "    ex) google.com/search?q=파이썬  >>  파이썬을 검색한 자료를 주세요(하나로 특정x)."
   ]
  }
 ],
 "metadata": {
  "kernelspec": {
   "display_name": "Python 3",
   "language": "python",
   "name": "python3"
  },
  "language_info": {
   "codemirror_mode": {
    "name": "ipython",
    "version": 3
   },
   "file_extension": ".py",
   "mimetype": "text/x-python",
   "name": "python",
   "nbconvert_exporter": "python",
   "pygments_lexer": "ipython3",
   "version": "3.7.3"
  },
  "toc": {
   "base_numbering": 1,
   "nav_menu": {},
   "number_sections": true,
   "sideBar": true,
   "skip_h1_title": false,
   "title_cell": "Table of Contents",
   "title_sidebar": "Contents",
   "toc_cell": false,
   "toc_position": {},
   "toc_section_display": true,
   "toc_window_display": false
  }
 },
 "nbformat": 4,
 "nbformat_minor": 2
}
