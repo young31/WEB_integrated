{
 "cells": [
  {
   "cell_type": "markdown",
   "metadata": {},
   "source": [
    "# Bootstrap\n",
    "\n",
    "## CDN\n",
    "- 컨텐츠를 효율적이게 전달하기 위해 네트워크에 데이터를 제공\n",
    "- 가까운 서버를 통해 빠르게 + 적절한 캐시 설정으로 빠르게\n",
    "\n",
    "## Utilities\n",
    "- 편하게 class로 적용가능\n",
    "- spacing\n",
    "  - .m-0: margin: 0 // .mr-0: margin-right: 0 //.py-0: padding \n",
    "    - 1단위는 0.25rem으로 적용(일정하지 않으므로 적용시켜보며 확인해보자)\n",
    "    \n",
    "- color\n",
    "  - primary등 지정되어 있는 색들이 있음\n",
    "  - .bg-primary // .text-white // .btn-secondary // .alert-warning\n",
    "  \n",
    "- border\n",
    "  - target border 설정 가능(top ... )\n",
    "  - border를 round등으로(사진에도) 적용도 가능\n",
    "  \n",
    "- display\n",
    "  - d-table // d-block // d-inline // d-inlineblock\n",
    "  - breakpoint\n",
    "    - sm, md, lg, xl 등으로 사이즈 조절\n",
    "    - d-sm-none // d-md-block ...   \n",
    "    \\~> **반응형 웹을 만드는 방법!!*\n",
    "    \n",
    "- position\n",
    "  - position-fixed // position-static ...  \n",
    "  ++ fixed-top // fixed-bottom    \n",
    "  \n",
    "- text\n",
    "  - text-right // text.center // text.left\n",
    "  - font-weight-bold // normal // light // font-italic\n",
    "  - text-lowercase\n",
    "  - text-monospace \\~> 고정폭 글꼴\n",
    "  \n",
    "- 더 많은 사항은 bootstrap홈페이지에서 doc > component 칸에 가면 더 많은 정보 가능"
   ]
  },
  {
   "cell_type": "code",
   "execution_count": null,
   "metadata": {},
   "outputs": [],
   "source": []
  }
 ],
 "metadata": {
  "kernelspec": {
   "display_name": "Python 3",
   "language": "python",
   "name": "python3"
  },
  "language_info": {
   "codemirror_mode": {
    "name": "ipython",
    "version": 3
   },
   "file_extension": ".py",
   "mimetype": "text/x-python",
   "name": "python",
   "nbconvert_exporter": "python",
   "pygments_lexer": "ipython3",
   "version": "3.7.3"
  },
  "toc": {
   "base_numbering": 1,
   "nav_menu": {},
   "number_sections": true,
   "sideBar": true,
   "skip_h1_title": false,
   "title_cell": "Table of Contents",
   "title_sidebar": "Contents",
   "toc_cell": false,
   "toc_position": {},
   "toc_section_display": true,
   "toc_window_display": false
  }
 },
 "nbformat": 4,
 "nbformat_minor": 2
}
